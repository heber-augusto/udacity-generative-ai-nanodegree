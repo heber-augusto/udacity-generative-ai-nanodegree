{
  "nbformat": 4,
  "nbformat_minor": 0,
  "metadata": {
    "colab": {
      "provenance": [],
      "authorship_tag": "ABX9TyNXlLR8Y5+TuJmnAyM3rOJK",
      "include_colab_link": true
    },
    "kernelspec": {
      "name": "python3",
      "display_name": "Python 3"
    },
    "language_info": {
      "name": "python"
    }
  },
  "cells": [
    {
      "cell_type": "markdown",
      "metadata": {
        "id": "view-in-github",
        "colab_type": "text"
      },
      "source": [
        "<a href=\"https://colab.research.google.com/github/heber-augusto/udacity-generative-ai-nanodegree/blob/main/personalized-real-state-agent/personalized-real-state-agent.ipynb\" target=\"_parent\"><img src=\"https://colab.research.google.com/assets/colab-badge.svg\" alt=\"Open In Colab\"/></a>"
      ]
    },
    {
      "cell_type": "markdown",
      "source": [
        "# Personalized Real Estate Agent\n",
        "Project from Udacity Generative AI Nano Degreet\n",
        "\n",
        "The task is to develop an innovative application named \"HomeMatch\". This application leverages large language models (LLMs) and vector databases to transform standard real estate listings into personalized narratives that resonate with potential buyers' unique preferences and needs."
      ],
      "metadata": {
        "id": "eDN5_Ua4FtwX"
      }
    },
    {
      "cell_type": "markdown",
      "source": [
        "## Read OpenAI API KEY"
      ],
      "metadata": {
        "id": "Mc7GzFEiF8fQ"
      }
    },
    {
      "cell_type": "code",
      "source": [
        "from google.colab import userdata\n",
        "import os\n",
        "os.environ['OPENAI_API_KEY'] = userdata.get('openai_api_key')"
      ],
      "metadata": {
        "id": "eT9k9PyAFh0F"
      },
      "execution_count": 1,
      "outputs": []
    },
    {
      "cell_type": "markdown",
      "source": [
        "## Libraries instalations"
      ],
      "metadata": {
        "id": "HKdbSCwnGBBT"
      }
    },
    {
      "cell_type": "code",
      "source": [
        "!pip install langchain openai==0.28 chromadb tiktoken\n",
        "!pip install langchain-community langchain-core"
      ],
      "metadata": {
        "colab": {
          "base_uri": "https://localhost:8080/"
        },
        "id": "_hinZCRRGDoC",
        "outputId": "d9698943-8aa9-490a-c8f6-a81d2d5db9a9"
      },
      "execution_count": 41,
      "outputs": [
        {
          "output_type": "stream",
          "name": "stdout",
          "text": [
            "Requirement already satisfied: langchain in /usr/local/lib/python3.10/dist-packages (0.2.3)\n",
            "Requirement already satisfied: openai==0.28 in /usr/local/lib/python3.10/dist-packages (0.28.0)\n",
            "Requirement already satisfied: chromadb in /usr/local/lib/python3.10/dist-packages (0.5.0)\n",
            "Collecting tiktoken\n",
            "  Downloading tiktoken-0.7.0-cp310-cp310-manylinux_2_17_x86_64.manylinux2014_x86_64.whl (1.1 MB)\n",
            "\u001b[2K     \u001b[90m━━━━━━━━━━━━━━━━━━━━━━━━━━━━━━━━━━━━━━━━\u001b[0m \u001b[32m1.1/1.1 MB\u001b[0m \u001b[31m13.3 MB/s\u001b[0m eta \u001b[36m0:00:00\u001b[0m\n",
            "\u001b[?25hRequirement already satisfied: requests>=2.20 in /usr/local/lib/python3.10/dist-packages (from openai==0.28) (2.31.0)\n",
            "Requirement already satisfied: tqdm in /usr/local/lib/python3.10/dist-packages (from openai==0.28) (4.66.4)\n",
            "Requirement already satisfied: aiohttp in /usr/local/lib/python3.10/dist-packages (from openai==0.28) (3.9.5)\n",
            "Requirement already satisfied: PyYAML>=5.3 in /usr/local/lib/python3.10/dist-packages (from langchain) (6.0.1)\n",
            "Requirement already satisfied: SQLAlchemy<3,>=1.4 in /usr/local/lib/python3.10/dist-packages (from langchain) (2.0.30)\n",
            "Requirement already satisfied: async-timeout<5.0.0,>=4.0.0 in /usr/local/lib/python3.10/dist-packages (from langchain) (4.0.3)\n",
            "Requirement already satisfied: langchain-core<0.3.0,>=0.2.0 in /usr/local/lib/python3.10/dist-packages (from langchain) (0.2.5)\n",
            "Requirement already satisfied: langchain-text-splitters<0.3.0,>=0.2.0 in /usr/local/lib/python3.10/dist-packages (from langchain) (0.2.1)\n",
            "Requirement already satisfied: langsmith<0.2.0,>=0.1.17 in /usr/local/lib/python3.10/dist-packages (from langchain) (0.1.77)\n",
            "Requirement already satisfied: numpy<2,>=1 in /usr/local/lib/python3.10/dist-packages (from langchain) (1.25.2)\n",
            "Requirement already satisfied: pydantic<3,>=1 in /usr/local/lib/python3.10/dist-packages (from langchain) (2.7.3)\n",
            "Requirement already satisfied: tenacity<9.0.0,>=8.1.0 in /usr/local/lib/python3.10/dist-packages (from langchain) (8.3.0)\n",
            "Requirement already satisfied: build>=1.0.3 in /usr/local/lib/python3.10/dist-packages (from chromadb) (1.2.1)\n",
            "Requirement already satisfied: chroma-hnswlib==0.7.3 in /usr/local/lib/python3.10/dist-packages (from chromadb) (0.7.3)\n",
            "Requirement already satisfied: fastapi>=0.95.2 in /usr/local/lib/python3.10/dist-packages (from chromadb) (0.111.0)\n",
            "Requirement already satisfied: uvicorn[standard]>=0.18.3 in /usr/local/lib/python3.10/dist-packages (from chromadb) (0.30.1)\n",
            "Requirement already satisfied: posthog>=2.4.0 in /usr/local/lib/python3.10/dist-packages (from chromadb) (3.5.0)\n",
            "Requirement already satisfied: typing-extensions>=4.5.0 in /usr/local/lib/python3.10/dist-packages (from chromadb) (4.12.1)\n",
            "Requirement already satisfied: onnxruntime>=1.14.1 in /usr/local/lib/python3.10/dist-packages (from chromadb) (1.18.0)\n",
            "Requirement already satisfied: opentelemetry-api>=1.2.0 in /usr/local/lib/python3.10/dist-packages (from chromadb) (1.25.0)\n",
            "Requirement already satisfied: opentelemetry-exporter-otlp-proto-grpc>=1.2.0 in /usr/local/lib/python3.10/dist-packages (from chromadb) (1.25.0)\n",
            "Requirement already satisfied: opentelemetry-instrumentation-fastapi>=0.41b0 in /usr/local/lib/python3.10/dist-packages (from chromadb) (0.46b0)\n",
            "Requirement already satisfied: opentelemetry-sdk>=1.2.0 in /usr/local/lib/python3.10/dist-packages (from chromadb) (1.25.0)\n",
            "Requirement already satisfied: tokenizers>=0.13.2 in /usr/local/lib/python3.10/dist-packages (from chromadb) (0.19.1)\n",
            "Requirement already satisfied: pypika>=0.48.9 in /usr/local/lib/python3.10/dist-packages (from chromadb) (0.48.9)\n",
            "Requirement already satisfied: overrides>=7.3.1 in /usr/local/lib/python3.10/dist-packages (from chromadb) (7.7.0)\n",
            "Requirement already satisfied: importlib-resources in /usr/local/lib/python3.10/dist-packages (from chromadb) (6.4.0)\n",
            "Requirement already satisfied: grpcio>=1.58.0 in /usr/local/lib/python3.10/dist-packages (from chromadb) (1.64.1)\n",
            "Requirement already satisfied: bcrypt>=4.0.1 in /usr/local/lib/python3.10/dist-packages (from chromadb) (4.1.3)\n",
            "Requirement already satisfied: typer>=0.9.0 in /usr/local/lib/python3.10/dist-packages (from chromadb) (0.12.3)\n",
            "Requirement already satisfied: kubernetes>=28.1.0 in /usr/local/lib/python3.10/dist-packages (from chromadb) (30.1.0)\n",
            "Requirement already satisfied: mmh3>=4.0.1 in /usr/local/lib/python3.10/dist-packages (from chromadb) (4.1.0)\n",
            "Requirement already satisfied: orjson>=3.9.12 in /usr/local/lib/python3.10/dist-packages (from chromadb) (3.10.4)\n",
            "Requirement already satisfied: regex>=2022.1.18 in /usr/local/lib/python3.10/dist-packages (from tiktoken) (2024.5.15)\n",
            "Requirement already satisfied: aiosignal>=1.1.2 in /usr/local/lib/python3.10/dist-packages (from aiohttp->openai==0.28) (1.3.1)\n",
            "Requirement already satisfied: attrs>=17.3.0 in /usr/local/lib/python3.10/dist-packages (from aiohttp->openai==0.28) (23.2.0)\n",
            "Requirement already satisfied: frozenlist>=1.1.1 in /usr/local/lib/python3.10/dist-packages (from aiohttp->openai==0.28) (1.4.1)\n",
            "Requirement already satisfied: multidict<7.0,>=4.5 in /usr/local/lib/python3.10/dist-packages (from aiohttp->openai==0.28) (6.0.5)\n",
            "Requirement already satisfied: yarl<2.0,>=1.0 in /usr/local/lib/python3.10/dist-packages (from aiohttp->openai==0.28) (1.9.4)\n",
            "Requirement already satisfied: packaging>=19.1 in /usr/local/lib/python3.10/dist-packages (from build>=1.0.3->chromadb) (23.2)\n",
            "Requirement already satisfied: pyproject_hooks in /usr/local/lib/python3.10/dist-packages (from build>=1.0.3->chromadb) (1.1.0)\n",
            "Requirement already satisfied: tomli>=1.1.0 in /usr/local/lib/python3.10/dist-packages (from build>=1.0.3->chromadb) (2.0.1)\n",
            "Requirement already satisfied: starlette<0.38.0,>=0.37.2 in /usr/local/lib/python3.10/dist-packages (from fastapi>=0.95.2->chromadb) (0.37.2)\n",
            "Requirement already satisfied: fastapi-cli>=0.0.2 in /usr/local/lib/python3.10/dist-packages (from fastapi>=0.95.2->chromadb) (0.0.4)\n",
            "Requirement already satisfied: httpx>=0.23.0 in /usr/local/lib/python3.10/dist-packages (from fastapi>=0.95.2->chromadb) (0.27.0)\n",
            "Requirement already satisfied: jinja2>=2.11.2 in /usr/local/lib/python3.10/dist-packages (from fastapi>=0.95.2->chromadb) (3.1.4)\n",
            "Requirement already satisfied: python-multipart>=0.0.7 in /usr/local/lib/python3.10/dist-packages (from fastapi>=0.95.2->chromadb) (0.0.9)\n",
            "Requirement already satisfied: ujson!=4.0.2,!=4.1.0,!=4.2.0,!=4.3.0,!=5.0.0,!=5.1.0,>=4.0.1 in /usr/local/lib/python3.10/dist-packages (from fastapi>=0.95.2->chromadb) (5.10.0)\n",
            "Requirement already satisfied: email_validator>=2.0.0 in /usr/local/lib/python3.10/dist-packages (from fastapi>=0.95.2->chromadb) (2.1.1)\n",
            "Requirement already satisfied: certifi>=14.05.14 in /usr/local/lib/python3.10/dist-packages (from kubernetes>=28.1.0->chromadb) (2024.6.2)\n",
            "Requirement already satisfied: six>=1.9.0 in /usr/local/lib/python3.10/dist-packages (from kubernetes>=28.1.0->chromadb) (1.16.0)\n",
            "Requirement already satisfied: python-dateutil>=2.5.3 in /usr/local/lib/python3.10/dist-packages (from kubernetes>=28.1.0->chromadb) (2.8.2)\n",
            "Requirement already satisfied: google-auth>=1.0.1 in /usr/local/lib/python3.10/dist-packages (from kubernetes>=28.1.0->chromadb) (2.27.0)\n",
            "Requirement already satisfied: websocket-client!=0.40.0,!=0.41.*,!=0.42.*,>=0.32.0 in /usr/local/lib/python3.10/dist-packages (from kubernetes>=28.1.0->chromadb) (1.8.0)\n",
            "Requirement already satisfied: requests-oauthlib in /usr/local/lib/python3.10/dist-packages (from kubernetes>=28.1.0->chromadb) (1.3.1)\n",
            "Requirement already satisfied: oauthlib>=3.2.2 in /usr/local/lib/python3.10/dist-packages (from kubernetes>=28.1.0->chromadb) (3.2.2)\n",
            "Requirement already satisfied: urllib3>=1.24.2 in /usr/local/lib/python3.10/dist-packages (from kubernetes>=28.1.0->chromadb) (2.0.7)\n",
            "Requirement already satisfied: jsonpatch<2.0,>=1.33 in /usr/local/lib/python3.10/dist-packages (from langchain-core<0.3.0,>=0.2.0->langchain) (1.33)\n",
            "Requirement already satisfied: coloredlogs in /usr/local/lib/python3.10/dist-packages (from onnxruntime>=1.14.1->chromadb) (15.0.1)\n",
            "Requirement already satisfied: flatbuffers in /usr/local/lib/python3.10/dist-packages (from onnxruntime>=1.14.1->chromadb) (24.3.25)\n",
            "Requirement already satisfied: protobuf in /usr/local/lib/python3.10/dist-packages (from onnxruntime>=1.14.1->chromadb) (3.20.3)\n",
            "Requirement already satisfied: sympy in /usr/local/lib/python3.10/dist-packages (from onnxruntime>=1.14.1->chromadb) (1.12.1)\n",
            "Requirement already satisfied: deprecated>=1.2.6 in /usr/local/lib/python3.10/dist-packages (from opentelemetry-api>=1.2.0->chromadb) (1.2.14)\n",
            "Requirement already satisfied: importlib-metadata<=7.1,>=6.0 in /usr/local/lib/python3.10/dist-packages (from opentelemetry-api>=1.2.0->chromadb) (7.1.0)\n",
            "Requirement already satisfied: googleapis-common-protos~=1.52 in /usr/local/lib/python3.10/dist-packages (from opentelemetry-exporter-otlp-proto-grpc>=1.2.0->chromadb) (1.63.1)\n",
            "Requirement already satisfied: opentelemetry-exporter-otlp-proto-common==1.25.0 in /usr/local/lib/python3.10/dist-packages (from opentelemetry-exporter-otlp-proto-grpc>=1.2.0->chromadb) (1.25.0)\n",
            "Requirement already satisfied: opentelemetry-proto==1.25.0 in /usr/local/lib/python3.10/dist-packages (from opentelemetry-exporter-otlp-proto-grpc>=1.2.0->chromadb) (1.25.0)\n",
            "Requirement already satisfied: opentelemetry-instrumentation-asgi==0.46b0 in /usr/local/lib/python3.10/dist-packages (from opentelemetry-instrumentation-fastapi>=0.41b0->chromadb) (0.46b0)\n",
            "Requirement already satisfied: opentelemetry-instrumentation==0.46b0 in /usr/local/lib/python3.10/dist-packages (from opentelemetry-instrumentation-fastapi>=0.41b0->chromadb) (0.46b0)\n",
            "Requirement already satisfied: opentelemetry-semantic-conventions==0.46b0 in /usr/local/lib/python3.10/dist-packages (from opentelemetry-instrumentation-fastapi>=0.41b0->chromadb) (0.46b0)\n",
            "Requirement already satisfied: opentelemetry-util-http==0.46b0 in /usr/local/lib/python3.10/dist-packages (from opentelemetry-instrumentation-fastapi>=0.41b0->chromadb) (0.46b0)\n",
            "Requirement already satisfied: setuptools>=16.0 in /usr/local/lib/python3.10/dist-packages (from opentelemetry-instrumentation==0.46b0->opentelemetry-instrumentation-fastapi>=0.41b0->chromadb) (67.7.2)\n",
            "Requirement already satisfied: wrapt<2.0.0,>=1.0.0 in /usr/local/lib/python3.10/dist-packages (from opentelemetry-instrumentation==0.46b0->opentelemetry-instrumentation-fastapi>=0.41b0->chromadb) (1.14.1)\n",
            "Requirement already satisfied: asgiref~=3.0 in /usr/local/lib/python3.10/dist-packages (from opentelemetry-instrumentation-asgi==0.46b0->opentelemetry-instrumentation-fastapi>=0.41b0->chromadb) (3.8.1)\n",
            "Requirement already satisfied: monotonic>=1.5 in /usr/local/lib/python3.10/dist-packages (from posthog>=2.4.0->chromadb) (1.6)\n",
            "Requirement already satisfied: backoff>=1.10.0 in /usr/local/lib/python3.10/dist-packages (from posthog>=2.4.0->chromadb) (2.2.1)\n",
            "Requirement already satisfied: annotated-types>=0.4.0 in /usr/local/lib/python3.10/dist-packages (from pydantic<3,>=1->langchain) (0.7.0)\n",
            "Requirement already satisfied: pydantic-core==2.18.4 in /usr/local/lib/python3.10/dist-packages (from pydantic<3,>=1->langchain) (2.18.4)\n",
            "Requirement already satisfied: charset-normalizer<4,>=2 in /usr/local/lib/python3.10/dist-packages (from requests>=2.20->openai==0.28) (3.3.2)\n",
            "Requirement already satisfied: idna<4,>=2.5 in /usr/local/lib/python3.10/dist-packages (from requests>=2.20->openai==0.28) (3.7)\n",
            "Requirement already satisfied: greenlet!=0.4.17 in /usr/local/lib/python3.10/dist-packages (from SQLAlchemy<3,>=1.4->langchain) (3.0.3)\n",
            "Requirement already satisfied: huggingface-hub<1.0,>=0.16.4 in /usr/local/lib/python3.10/dist-packages (from tokenizers>=0.13.2->chromadb) (0.23.2)\n",
            "Requirement already satisfied: click>=8.0.0 in /usr/local/lib/python3.10/dist-packages (from typer>=0.9.0->chromadb) (8.1.7)\n",
            "Requirement already satisfied: shellingham>=1.3.0 in /usr/local/lib/python3.10/dist-packages (from typer>=0.9.0->chromadb) (1.5.4)\n",
            "Requirement already satisfied: rich>=10.11.0 in /usr/local/lib/python3.10/dist-packages (from typer>=0.9.0->chromadb) (13.7.1)\n",
            "Requirement already satisfied: h11>=0.8 in /usr/local/lib/python3.10/dist-packages (from uvicorn[standard]>=0.18.3->chromadb) (0.14.0)\n",
            "Requirement already satisfied: httptools>=0.5.0 in /usr/local/lib/python3.10/dist-packages (from uvicorn[standard]>=0.18.3->chromadb) (0.6.1)\n",
            "Requirement already satisfied: python-dotenv>=0.13 in /usr/local/lib/python3.10/dist-packages (from uvicorn[standard]>=0.18.3->chromadb) (1.0.1)\n",
            "Requirement already satisfied: uvloop!=0.15.0,!=0.15.1,>=0.14.0 in /usr/local/lib/python3.10/dist-packages (from uvicorn[standard]>=0.18.3->chromadb) (0.19.0)\n",
            "Requirement already satisfied: watchfiles>=0.13 in /usr/local/lib/python3.10/dist-packages (from uvicorn[standard]>=0.18.3->chromadb) (0.22.0)\n",
            "Requirement already satisfied: websockets>=10.4 in /usr/local/lib/python3.10/dist-packages (from uvicorn[standard]>=0.18.3->chromadb) (12.0)\n",
            "Requirement already satisfied: dnspython>=2.0.0 in /usr/local/lib/python3.10/dist-packages (from email_validator>=2.0.0->fastapi>=0.95.2->chromadb) (2.6.1)\n",
            "Requirement already satisfied: cachetools<6.0,>=2.0.0 in /usr/local/lib/python3.10/dist-packages (from google-auth>=1.0.1->kubernetes>=28.1.0->chromadb) (5.3.3)\n",
            "Requirement already satisfied: pyasn1-modules>=0.2.1 in /usr/local/lib/python3.10/dist-packages (from google-auth>=1.0.1->kubernetes>=28.1.0->chromadb) (0.4.0)\n",
            "Requirement already satisfied: rsa<5,>=3.1.4 in /usr/local/lib/python3.10/dist-packages (from google-auth>=1.0.1->kubernetes>=28.1.0->chromadb) (4.9)\n",
            "Requirement already satisfied: anyio in /usr/local/lib/python3.10/dist-packages (from httpx>=0.23.0->fastapi>=0.95.2->chromadb) (3.7.1)\n",
            "Requirement already satisfied: httpcore==1.* in /usr/local/lib/python3.10/dist-packages (from httpx>=0.23.0->fastapi>=0.95.2->chromadb) (1.0.5)\n",
            "Requirement already satisfied: sniffio in /usr/local/lib/python3.10/dist-packages (from httpx>=0.23.0->fastapi>=0.95.2->chromadb) (1.3.1)\n",
            "Requirement already satisfied: filelock in /usr/local/lib/python3.10/dist-packages (from huggingface-hub<1.0,>=0.16.4->tokenizers>=0.13.2->chromadb) (3.14.0)\n",
            "Requirement already satisfied: fsspec>=2023.5.0 in /usr/local/lib/python3.10/dist-packages (from huggingface-hub<1.0,>=0.16.4->tokenizers>=0.13.2->chromadb) (2023.6.0)\n",
            "Requirement already satisfied: zipp>=0.5 in /usr/local/lib/python3.10/dist-packages (from importlib-metadata<=7.1,>=6.0->opentelemetry-api>=1.2.0->chromadb) (3.19.1)\n",
            "Requirement already satisfied: MarkupSafe>=2.0 in /usr/local/lib/python3.10/dist-packages (from jinja2>=2.11.2->fastapi>=0.95.2->chromadb) (2.1.5)\n",
            "Requirement already satisfied: jsonpointer>=1.9 in /usr/local/lib/python3.10/dist-packages (from jsonpatch<2.0,>=1.33->langchain-core<0.3.0,>=0.2.0->langchain) (3.0.0)\n",
            "Requirement already satisfied: markdown-it-py>=2.2.0 in /usr/local/lib/python3.10/dist-packages (from rich>=10.11.0->typer>=0.9.0->chromadb) (3.0.0)\n",
            "Requirement already satisfied: pygments<3.0.0,>=2.13.0 in /usr/local/lib/python3.10/dist-packages (from rich>=10.11.0->typer>=0.9.0->chromadb) (2.16.1)\n",
            "Requirement already satisfied: humanfriendly>=9.1 in /usr/local/lib/python3.10/dist-packages (from coloredlogs->onnxruntime>=1.14.1->chromadb) (10.0)\n",
            "Requirement already satisfied: mpmath<1.4.0,>=1.1.0 in /usr/local/lib/python3.10/dist-packages (from sympy->onnxruntime>=1.14.1->chromadb) (1.3.0)\n",
            "Requirement already satisfied: exceptiongroup in /usr/local/lib/python3.10/dist-packages (from anyio->httpx>=0.23.0->fastapi>=0.95.2->chromadb) (1.2.1)\n",
            "Requirement already satisfied: mdurl~=0.1 in /usr/local/lib/python3.10/dist-packages (from markdown-it-py>=2.2.0->rich>=10.11.0->typer>=0.9.0->chromadb) (0.1.2)\n",
            "Requirement already satisfied: pyasn1<0.7.0,>=0.4.6 in /usr/local/lib/python3.10/dist-packages (from pyasn1-modules>=0.2.1->google-auth>=1.0.1->kubernetes>=28.1.0->chromadb) (0.6.0)\n",
            "Installing collected packages: tiktoken\n",
            "Successfully installed tiktoken-0.7.0\n",
            "Requirement already satisfied: langchain-community in /usr/local/lib/python3.10/dist-packages (0.2.4)\n",
            "Requirement already satisfied: langchain-core in /usr/local/lib/python3.10/dist-packages (0.2.5)\n",
            "Requirement already satisfied: PyYAML>=5.3 in /usr/local/lib/python3.10/dist-packages (from langchain-community) (6.0.1)\n",
            "Requirement already satisfied: SQLAlchemy<3,>=1.4 in /usr/local/lib/python3.10/dist-packages (from langchain-community) (2.0.30)\n",
            "Requirement already satisfied: aiohttp<4.0.0,>=3.8.3 in /usr/local/lib/python3.10/dist-packages (from langchain-community) (3.9.5)\n",
            "Requirement already satisfied: dataclasses-json<0.7,>=0.5.7 in /usr/local/lib/python3.10/dist-packages (from langchain-community) (0.6.7)\n",
            "Requirement already satisfied: langchain<0.3.0,>=0.2.0 in /usr/local/lib/python3.10/dist-packages (from langchain-community) (0.2.3)\n",
            "Requirement already satisfied: langsmith<0.2.0,>=0.1.0 in /usr/local/lib/python3.10/dist-packages (from langchain-community) (0.1.77)\n",
            "Requirement already satisfied: numpy<2,>=1 in /usr/local/lib/python3.10/dist-packages (from langchain-community) (1.25.2)\n",
            "Requirement already satisfied: requests<3,>=2 in /usr/local/lib/python3.10/dist-packages (from langchain-community) (2.31.0)\n",
            "Requirement already satisfied: tenacity<9.0.0,>=8.1.0 in /usr/local/lib/python3.10/dist-packages (from langchain-community) (8.3.0)\n",
            "Requirement already satisfied: jsonpatch<2.0,>=1.33 in /usr/local/lib/python3.10/dist-packages (from langchain-core) (1.33)\n",
            "Requirement already satisfied: packaging<24.0,>=23.2 in /usr/local/lib/python3.10/dist-packages (from langchain-core) (23.2)\n",
            "Requirement already satisfied: pydantic<3,>=1 in /usr/local/lib/python3.10/dist-packages (from langchain-core) (2.7.3)\n",
            "Requirement already satisfied: aiosignal>=1.1.2 in /usr/local/lib/python3.10/dist-packages (from aiohttp<4.0.0,>=3.8.3->langchain-community) (1.3.1)\n",
            "Requirement already satisfied: attrs>=17.3.0 in /usr/local/lib/python3.10/dist-packages (from aiohttp<4.0.0,>=3.8.3->langchain-community) (23.2.0)\n",
            "Requirement already satisfied: frozenlist>=1.1.1 in /usr/local/lib/python3.10/dist-packages (from aiohttp<4.0.0,>=3.8.3->langchain-community) (1.4.1)\n",
            "Requirement already satisfied: multidict<7.0,>=4.5 in /usr/local/lib/python3.10/dist-packages (from aiohttp<4.0.0,>=3.8.3->langchain-community) (6.0.5)\n",
            "Requirement already satisfied: yarl<2.0,>=1.0 in /usr/local/lib/python3.10/dist-packages (from aiohttp<4.0.0,>=3.8.3->langchain-community) (1.9.4)\n",
            "Requirement already satisfied: async-timeout<5.0,>=4.0 in /usr/local/lib/python3.10/dist-packages (from aiohttp<4.0.0,>=3.8.3->langchain-community) (4.0.3)\n",
            "Requirement already satisfied: marshmallow<4.0.0,>=3.18.0 in /usr/local/lib/python3.10/dist-packages (from dataclasses-json<0.7,>=0.5.7->langchain-community) (3.21.3)\n",
            "Requirement already satisfied: typing-inspect<1,>=0.4.0 in /usr/local/lib/python3.10/dist-packages (from dataclasses-json<0.7,>=0.5.7->langchain-community) (0.9.0)\n",
            "Requirement already satisfied: jsonpointer>=1.9 in /usr/local/lib/python3.10/dist-packages (from jsonpatch<2.0,>=1.33->langchain-core) (3.0.0)\n",
            "Requirement already satisfied: langchain-text-splitters<0.3.0,>=0.2.0 in /usr/local/lib/python3.10/dist-packages (from langchain<0.3.0,>=0.2.0->langchain-community) (0.2.1)\n",
            "Requirement already satisfied: orjson<4.0.0,>=3.9.14 in /usr/local/lib/python3.10/dist-packages (from langsmith<0.2.0,>=0.1.0->langchain-community) (3.10.4)\n",
            "Requirement already satisfied: annotated-types>=0.4.0 in /usr/local/lib/python3.10/dist-packages (from pydantic<3,>=1->langchain-core) (0.7.0)\n",
            "Requirement already satisfied: pydantic-core==2.18.4 in /usr/local/lib/python3.10/dist-packages (from pydantic<3,>=1->langchain-core) (2.18.4)\n",
            "Requirement already satisfied: typing-extensions>=4.6.1 in /usr/local/lib/python3.10/dist-packages (from pydantic<3,>=1->langchain-core) (4.12.1)\n",
            "Requirement already satisfied: charset-normalizer<4,>=2 in /usr/local/lib/python3.10/dist-packages (from requests<3,>=2->langchain-community) (3.3.2)\n",
            "Requirement already satisfied: idna<4,>=2.5 in /usr/local/lib/python3.10/dist-packages (from requests<3,>=2->langchain-community) (3.7)\n",
            "Requirement already satisfied: urllib3<3,>=1.21.1 in /usr/local/lib/python3.10/dist-packages (from requests<3,>=2->langchain-community) (2.0.7)\n",
            "Requirement already satisfied: certifi>=2017.4.17 in /usr/local/lib/python3.10/dist-packages (from requests<3,>=2->langchain-community) (2024.6.2)\n",
            "Requirement already satisfied: greenlet!=0.4.17 in /usr/local/lib/python3.10/dist-packages (from SQLAlchemy<3,>=1.4->langchain-community) (3.0.3)\n",
            "Requirement already satisfied: mypy-extensions>=0.3.0 in /usr/local/lib/python3.10/dist-packages (from typing-inspect<1,>=0.4.0->dataclasses-json<0.7,>=0.5.7->langchain-community) (1.0.0)\n"
          ]
        }
      ]
    },
    {
      "cell_type": "markdown",
      "source": [
        "## Libraries imports"
      ],
      "metadata": {
        "id": "7uyNJJcDHU38"
      }
    },
    {
      "cell_type": "code",
      "execution_count": 37,
      "metadata": {
        "id": "XPEsWjRpFYMq"
      },
      "outputs": [],
      "source": [
        "from langchain.chat_models import ChatOpenAI\n",
        "from langchain.llms import OpenAI\n",
        "from langchain.embeddings.openai import OpenAIEmbeddings\n",
        "from langchain.prompts import PromptTemplate\n",
        "from langchain.schema import AIMessage, HumanMessage, SystemMessage\n",
        "from langchain.memory import ConversationSummaryMemory, ConversationBufferMemory, CombinedMemory, ChatMessageHistory\n",
        "from langchain.chains import ConversationChain\n",
        "from typing import Any, Dict, Optional, Tuple\n",
        "from langchain.vectorstores import Chroma\n",
        "from langchain.docstore.document import Document\n"
      ]
    },
    {
      "cell_type": "markdown",
      "source": [
        "## Generating Real Estate Listings with an LLM"
      ],
      "metadata": {
        "id": "a1IXXlrGH2l5"
      }
    },
    {
      "cell_type": "code",
      "source": [
        "model_name=\"gpt-4o\"\n",
        "temperature = 1.2\n",
        "\n",
        "chat_llm = ChatOpenAI(\n",
        "    model_name=model_name,\n",
        "    temperature=temperature,\n",
        "    max_tokens = 4096)\n",
        "\n",
        "prompt_template = \"\"\"\n",
        "Generate at least 10 real estate listings to produce descriptions of various properties. An example of a listing might be:\n",
        "-----------\n",
        "Neighborhood: Green Oaks\n",
        "Price: $800,000\n",
        "Bedrooms: 3\n",
        "Bathrooms: 2\n",
        "House Size: 2,000 sqft\n",
        "\n",
        "Description: Welcome to this eco-friendly oasis nestled in the heart of Green Oaks. This charming 3-bedroom, 2-bathroom home boasts energy-efficient features such as solar panels and a well-insulated structure. Natural light floods the living spaces, highlighting the beautiful hardwood floors and eco-conscious finishes. The open-concept kitchen and dining area lead to a spacious backyard with a vegetable garden, perfect for the eco-conscious family. Embrace sustainable living without compromising on style in this Green Oaks gem.\n",
        "\n",
        "Neighborhood Description: Green Oaks is a close-knit, environmentally-conscious community with access to organic grocery stores, community gardens, and bike paths. Take a stroll through the nearby Green Oaks Park or grab a cup of coffee at the cozy Green Bean Cafe. With easy access to public transportation and bike lanes, commuting is a breeze.\n",
        "\"\"\"\n",
        "\n",
        "messages = [\n",
        "    HumanMessage(content=prompt_template),\n",
        "]\n",
        "\n",
        "#output = chat_llm(messages)\n",
        "\n",
        "#fd = open('listings.txt', 'w')\n",
        "#fd.write(output.content)\n",
        "#fd.close()\n"
      ],
      "metadata": {
        "colab": {
          "base_uri": "https://localhost:8080/"
        },
        "id": "VYu0hMmUFcqH",
        "outputId": "2b29d642-2f94-42ad-bb14-6861ae72d686"
      },
      "execution_count": 7,
      "outputs": [
        {
          "output_type": "stream",
          "name": "stdout",
          "text": [
            "content=\"Sure, here are 10 imaginary real estate listings:\\n\\n1. -----------\\nNeighborhood: Maplewood Estate\\nPrice: $1,250,000\\nBedrooms: 5\\nBathrooms: 4\\nHouse Size: 3,500 sqft\\n\\nDescription: Step into luxury at this exquisite Maplewood Estate residence. Boasting 5 bedrooms and 4 bathrooms, this home features a grand staircase, spacious living rooms, and a gourmet kitchen with top-of-the-line stainless steel appliances. The master suite includes a private balcony overlooking the immaculately landscaped backyard, ideal for entertaining with its built-in BBQ area and heated pool. Don't miss out on experiencing elegance and comfort in this spacious family home.\\n\\nNeighborhood Description: Known for its tree-lined streets and highly rated schools, Maplewood Estate offers a serene suburban lifestyle with a touch of class. Enjoy leisurely walks through the Meadow View Park or indulge in some retail therapy at Maplewood Mall. The community organizes regular family-centric events, making it an idyllic place for growing families.\\n\\n2. -----------\\nNeighborhood: Sunset Ridge\\nPrice: $950,000\\nBedrooms: 4\\nBathrooms: 3.5\\nHouse Size: 3,100 sqft\\n\\nDescription: Nestled in the picturesque hills of Sunset Ridge, this stunning 4-bedroom, 3.5-bath home is where modern amenities meet natural beauty. The gourmet kitchen comes with quartz countertops, a large island, and custom cabinetry. An open floor plan allows seamless flow into the living room, featuring a stone fireplace and vaulted ceilings. The outdoor patio provides breathtaking sunset views of the nearby canyons.\\n\\nNeighborhood Description: Sunset Ridge offers panoramic vistas and easy access to hiking trails like Ridge Loop Trail. This family-friendly community boasts an excellent school district, diverse dining options, and multiple playgrounds. The local Farmers Market on Saturdays is a bustling hub of activity.\\n\\n3. -----------\\nNeighborhood: Riverwalk\\nPrice: $695,000\\nBedrooms: 3\\nBathrooms: 3\\nHouse Size: 2,200 sqft\\n\\nDescription: Discover this Riverwalk beauty with 3 bedrooms and 3 bathrooms designed for comfortable living. The kitchen is the centerpiece of this home, complete with granite countertops and premium stainless steel appliances. With an open floor plan, hardwood floors, and multiple large windows, natural light fills this stunning riverfront property, offering serene views from every room. \\n\\nNeighborhood Description: Riverwalk is famous for its picturesque river trails, popular among joggers and cyclists. This community emphasizes outdoor living, with numerous parks and recreational activities. Conveniently located, it’s a short stroll to the Riverwalk Marina and the Riverbank Shopping Center, complete with boutique shops and gourmet restaurants.\\n\\n4. -----------\\nNeighborhood: Oak Leaf Park\\nPrice: $450,000\\nBedrooms: 2\\nBathrooms: 2\\nHouse Size: 1,500 sqft\\n\\nDescription: Tucked away in the quaint Oak Leaf Park neighborhood, this cozy 2-bedroom, 2-bath home is ideal for those looking for a true community feel. Recent renovations include updated kitchen cabinets, marble countertops, and custom tiling in the bathrooms. The large deck and fenced yard offer perfect spots for family gatherings or quiet evenings under the stars.\\n\\nNeighborhood Description: Oak Leaf Park is a close-knit community known for its seasonal festivals and outdoor concerts. With historic Oak Library nearby and weekly Farmer’s Markets in the town square, there's always something to do. Families cherish the neighborhood for its friendly atmosphere and excellent local schools.\\n\\n5. -----------\\nNeighborhood: Cedar Pines\\nPrice: $525,000\\nBedrooms: 3\\nBathrooms: 2.5\\nHouse Size: 2,300 sqft\\n\\nDescription: Welcome to Cedar Pines where this charming 3-bedroom, 2.5-bathroom home awaits. Featuring an open floor plan, a cozy fireplace, and a sunroom that provides ample light, this home combines comfort and elegance. The spacious master bedroom includes an en-suite bath with a soaking tub and walk-in closet. The landscaped backyard offers enough space for customizable gardening or entertainment.\\n\\nNeighborhood Description: Cedar Pines is a serene neighborhood residing amongst natural woodlands, offering myriad outdoor activities including hiking trails and bird watching. The community emphasizes sustainable living while providing access to top-tier schools and local craft shops.\\n\\n6. -----------\\nNeighborhood: Lakeshoreview\\nPrice: $2,100,000\\nBedrooms: 6\\nBathrooms: 5\\nHouse Size: 5,500 sqft\\n\\nDescription: Presenting this majestic property in Lakeshoreview— a 6-bedroom, 5-bathroom mansion that stands as a testament to modern opulence. Features include a state-of-the-art home theater, chef's kitchen with sub-zero appliances, and a master suite with floor-to-ceiling windows providing stunning lake views. Stay fit in the personal gym or unwind in the sauna. A floating dock and outdoor kitchen make this home an entertainer's dream.\\n\\nNeighborhood Description: Lakeshoreview is an ultra-luxurious community with private lake access and numerous recreational facilities. Excellent for boating and aquatic activities, it includes prestigious schooling options and top-notch restaurants. Neighborly, yet exclusive, this is high-end living at its best.\\n\\n7. -----------\\nNeighborhood: Pinecrest Village\\nPrice: $620,000\\nBedrooms: 4\\nBathrooms: 3\\nHouse Size: 2,750 sqft\\n\\nDescription: Pinecrest Village offers this lovely 4-bedroom, 3-bath home perfect for family life. With a recently updated kitchen featuring energy-efficient appliances and granite countertops, cooking becomes a daily joy. The integrated living-dining area is ideal for entertaining, and the large backyard comes with a charming gazebo.\\n\\nNeighborhood Description: Renowned for its communal gardens and top-rated schools, Pinecrest Village also boasts sports complexes and family-friendly amenities. Enjoy jogging on Pine Path, and on Saturday mornings, visit the bustling Village Market where local vendors offer fresh produce.\\n\\n8. -----------\\nNeighborhood: Silver Beach\\nPrice: $1,775,000\\nBedrooms: 5\\nBathrooms: 4.5\\nHouse Size: 4,800 sqft\\n\\nDescription: Located in the exclusive Silver Beach community, this 5-bedroom, 4.5-bathroom home is designed for luxurious coastal living. The open floor plan includes a chef's dream kitchen, spacious living area with fireplace, and elegantly appointed bedrooms. Step out onto one of the expansive decks for unbeatable ocean views or take a short walk to your private beachfront.\\n\\nNeighborhood Description: Silver Beach is an elite enclave known for private, pristine beaches and stunning Cliffside walks. There is a charming beach club, luxurious spa, and top-rated Silver Beach Golf Course. Perfect for the sophisticated homeowner looking for a blend of seclusion and community.\\n\\n9. -----------\\nNeighborhood: Redstone Acres\\nPrice: $575,000\\nBedrooms: 4\\nBathrooms: 2.5\\nHouse Size: 2,700 sqft\\n\\nDescription: This charming 4-bedroom, 2.5-bath residence is located in the serene Redstone Acres. Featuring an open floor plan, newly renovated kitchen, and high ceilings, this home effortlessly blends modern convenience with rustic beauty. A wood-paneled study provides a cozy escape, while the sun-drenched living room opens up to a fenced backyard perfect for kids and pets.\\n\\nNeighborhood Description: Redstone Acres combines countryside tranquility with modern living amenities such as community pools, tennis courts, and equestrian facilities. Its friendly community spirit and large open spaces attract families seeking both quality and comfort.\\n\\n10. -----------\\nNeighborhood: Blue River Haven\\nPrice: $700,000\\nBedrooms: 3\\nBathrooms: 2.5\\nHouse Size: 2,400 sqft\\n\\nDescription: Welcome to Blue River Haven, where this elegant 3-bedroom, 2.5-bath residence awaits you. Featuring vaulted ceilings, a spacious kitchen island, and a covered lanai perfect for sled towns. Multiple large windows provide natural light, illuminating the beautiful stone fireplace and hardwood floors. Enjoy entertaining in the yard with river views and lush landscaping.\\n\\nNeighborhood description: Blue River Haven is sought after for its quiet, riverside atmosphere with fantastic outdoor amenities like kayaking and fishing. Renowned for local schools and close-by shopping centers, it enriches living with art walks, farmers markets, and cultural fairs providing an inviting community-oriented aesthetic.\" response_metadata={'token_usage': <OpenAIObject at 0x7ebabc3472e0> JSON: {\n",
            "  \"prompt_tokens\": 226,\n",
            "  \"completion_tokens\": 1684,\n",
            "  \"total_tokens\": 1910\n",
            "}, 'model_name': 'gpt-4o', 'system_fingerprint': 'fp_319be4768e', 'finish_reason': 'stop', 'logprobs': None} id='run-d0ef662c-dbfd-41e7-93cb-f7f8a2685e11-0'\n"
          ]
        }
      ]
    },
    {
      "cell_type": "markdown",
      "source": [
        "### Read file from repository and put the content inside a list"
      ],
      "metadata": {
        "id": "p_Xmg69AOm7H"
      }
    },
    {
      "cell_type": "code",
      "source": [
        "import requests\n",
        "response = requests.get(\n",
        "    'https://raw.githubusercontent.com/heber-augusto/udacity-generative-ai-nanodegree/main/personalized-real-state-agent/files/listings.txt')"
      ],
      "metadata": {
        "id": "MvgoOt4GO0a7"
      },
      "execution_count": 29,
      "outputs": []
    },
    {
      "cell_type": "markdown",
      "source": [
        "### Remove the first element from the split and the content at the end of each generated listing"
      ],
      "metadata": {
        "id": "ONXflKgKP2D2"
      }
    },
    {
      "cell_type": "code",
      "source": [
        "\n",
        "listings = []\n",
        "for prop in response.text.split('-----------')[1:]:\n",
        "  listings.append(prop[:-5])"
      ],
      "metadata": {
        "id": "69ukmZ-QJCyP"
      },
      "execution_count": 36,
      "outputs": []
    },
    {
      "cell_type": "markdown",
      "source": [
        "## Semantic Search"
      ],
      "metadata": {
        "id": "K2aACTPHP6-J"
      }
    },
    {
      "cell_type": "markdown",
      "source": [
        "## Creating a Vector Database and Storing Listings"
      ],
      "metadata": {
        "id": "H6lRXbsSP8uN"
      }
    },
    {
      "cell_type": "code",
      "source": [
        "from langchain.text_splitter import CharacterTextSplitter\n",
        "from langchain.schema.document import Document\n",
        "from langchain.vectorstores import Chroma\n",
        "\n",
        "docs = [Document(page_content=x) for x in listings]\n",
        "\n",
        "splitter = CharacterTextSplitter(chunk_size=1000, chunk_overlap=0)\n",
        "split_docs = splitter.split_documents(docs)\n",
        "\n",
        "embeddings = OpenAIEmbeddings()\n",
        "\n",
        "db = Chroma.from_documents(split_docs, embeddings)"
      ],
      "metadata": {
        "id": "DmbqJfS4PSiV"
      },
      "execution_count": 42,
      "outputs": []
    },
    {
      "cell_type": "markdown",
      "source": [
        "## Testing Semantic Search of Listings Based on query"
      ],
      "metadata": {
        "id": "e-AG2Q6lT3yc"
      }
    },
    {
      "cell_type": "code",
      "source": [
        "query = \"I want a house with 3 or more bedrooms inside a calm neigboorhood\"\n",
        "similar_docs = db.similarity_search(\n",
        "    query,\n",
        "    k=3)\n",
        "\n",
        "similar_docs"
      ],
      "metadata": {
        "colab": {
          "base_uri": "https://localhost:8080/"
        },
        "id": "eEg3W9WDRjZ7",
        "outputId": "da76cae7-a500-48a6-bb1b-a3148011f4a4"
      },
      "execution_count": 47,
      "outputs": [
        {
          "output_type": "execute_result",
          "data": {
            "text/plain": [
              "[Document(page_content='Neighborhood: Cedar Pines\\nPrice: $525,000\\nBedrooms: 3\\nBathrooms: 2.5\\nHouse Size: 2,300 sqft\\n\\nDescription: Welcome to Cedar Pines where this charming 3-bedroom, 2.5-bathroom home awaits. Featuring an open floor plan, a cozy fireplace, and a sunroom that provides ample light, this home combines comfort and elegance. The spacious master bedroom includes an en-suite bath with a soaking tub and walk-in closet. The landscaped backyard offers enough space for customizable gardening or entertainment.\\n\\nNeighborhood Description: Cedar Pines is a serene neighborhood residing amongst natural woodlands, offering myriad outdoor activities including hiking trails and bird watching. The community emphasizes sustainable living while providing access to top-tier schools and local craft shops.'),\n",
              " Document(page_content='Neighborhood: Riverwalk\\nPrice: $695,000\\nBedrooms: 3\\nBathrooms: 3\\nHouse Size: 2,200 sqft\\n\\nDescription: Discover this Riverwalk beauty with 3 bedrooms and 3 bathrooms designed for comfortable living. The kitchen is the centerpiece of this home, complete with granite countertops and premium stainless steel appliances. With an open floor plan, hardwood floors, and multiple large windows, natural light fills this stunning riverfront property, offering serene views from every room. \\n\\nNeighborhood Description: Riverwalk is famous for its picturesque river trails, popular among joggers and cyclists. This community emphasizes outdoor living, with numerous parks and recreational activities. Conveniently located, it’s a short stroll to the Riverwalk Marina and the Riverbank Shopping Center, complete with boutique shops and gourmet restaurants.'),\n",
              " Document(page_content='Neighborhood: Pinecrest Village\\nPrice: $620,000\\nBedrooms: 4\\nBathrooms: 3\\nHouse Size: 2,750 sqft\\n\\nDescription: Pinecrest Village offers this lovely 4-bedroom, 3-bath home perfect for family life. With a recently updated kitchen featuring energy-efficient appliances and granite countertops, cooking becomes a daily joy. The integrated living-dining area is ideal for entertaining, and the large backyard comes with a charming gazebo.\\n\\nNeighborhood Description: Renowned for its communal gardens and top-rated schools, Pinecrest Village also boasts sports complexes and family-friendly amenities. Enjoy jogging on Pine Path, and on Saturday mornings, visit the bustling Village Market where local vendors offer fresh produce.')]"
            ]
          },
          "metadata": {},
          "execution_count": 47
        }
      ]
    },
    {
      "cell_type": "code",
      "source": [
        "print(listings[0])"
      ],
      "metadata": {
        "colab": {
          "base_uri": "https://localhost:8080/"
        },
        "id": "b-a9ypihSbSx",
        "outputId": "693b1706-9438-4f95-eade-981f04cc44cf"
      },
      "execution_count": 48,
      "outputs": [
        {
          "output_type": "stream",
          "name": "stdout",
          "text": [
            "\n",
            "Neighborhood: Maplewood Estate\n",
            "Price: $1,250,000\n",
            "Bedrooms: 5\n",
            "Bathrooms: 4\n",
            "House Size: 3,500 sqft\n",
            "\n",
            "Description: Step into luxury at this exquisite Maplewood Estate residence. Boasting 5 bedrooms and 4 bathrooms, this home features a grand staircase, spacious living rooms, and a gourmet kitchen with top-of-the-line stainless steel appliances. The master suite includes a private balcony overlooking the immaculately landscaped backyard, ideal for entertaining with its built-in BBQ area and heated pool. Don't miss out on experiencing elegance and comfort in this spacious family home.\n",
            "\n",
            "Neighborhood Description: Known for its tree-lined streets and highly rated schools, Maplewood Estate offers a serene suburban lifestyle with a touch of class. Enjoy leisurely walks through the Meadow View Park or indulge in some retail therapy at Maplewood Mall. The community organizes regular family-centric events, making it an idyllic place for growing families.\n"
          ]
        }
      ]
    },
    {
      "cell_type": "code",
      "source": [],
      "metadata": {
        "id": "-6CHWw2vSf3k"
      },
      "execution_count": null,
      "outputs": []
    }
  ]
}